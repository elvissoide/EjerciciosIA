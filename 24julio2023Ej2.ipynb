{
 "cells": [
  {
   "cell_type": "code",
   "execution_count": 2,
   "metadata": {},
   "outputs": [],
   "source": [
    "import speech_recognition as sr"
   ]
  },
  {
   "cell_type": "code",
   "execution_count": 6,
   "metadata": {},
   "outputs": [
    {
     "name": "stdout",
     "output_type": "stream",
     "text": [
      "conchetumadre 250 una tostada que yo valgo berga casi no me comí una empanada en el colegio para la salida y me a comprar algo más bacano imagínate su hijo de puta 250 unas tostadas como la verga ocotequila gusta tu madre ya porque son de tira una botella estamos montando la berga\n"
     ]
    }
   ],
   "source": [
    "reconocimiento = sr.Recognizer()\n",
    "\n",
    "# Archivo de audio\n",
    "archivo = sr.AudioFile(\"audio2.wav\")\n",
    "\n",
    "# Capturar los datos del archivo de audio\n",
    "with archivo as source:\n",
    "    audio = reconocimiento.record(source)\n",
    "\n",
    "# Imprimir el texto del audio\n",
    "print(reconocimiento.recognize_google(audio, language=\"es-EC\"))"
   ]
  }
 ],
 "metadata": {
  "kernelspec": {
   "display_name": "Python 3",
   "language": "python",
   "name": "python3"
  },
  "language_info": {
   "codemirror_mode": {
    "name": "ipython",
    "version": 3
   },
   "file_extension": ".py",
   "mimetype": "text/x-python",
   "name": "python",
   "nbconvert_exporter": "python",
   "pygments_lexer": "ipython3",
   "version": "3.11.2"
  },
  "orig_nbformat": 4
 },
 "nbformat": 4,
 "nbformat_minor": 2
}
