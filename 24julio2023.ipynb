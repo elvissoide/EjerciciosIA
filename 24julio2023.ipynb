{
 "cells": [
  {
   "cell_type": "code",
   "execution_count": 16,
   "metadata": {},
   "outputs": [
    {
     "name": "stderr",
     "output_type": "stream",
     "text": [
      "[nltk_data] Downloading package punkt to C:\\Users\\FUNDAMENTOS DE\n",
      "[nltk_data]     IA\\AppData\\Roaming\\nltk_data...\n",
      "[nltk_data]   Package punkt is already up-to-date!\n",
      "[nltk_data] Downloading package vader_lexicon to C:\\Users\\FUNDAMENTOS\n",
      "[nltk_data]     DE IA\\AppData\\Roaming\\nltk_data...\n"
     ]
    },
    {
     "data": {
      "text/plain": [
       "True"
      ]
     },
     "execution_count": 16,
     "metadata": {},
     "output_type": "execute_result"
    }
   ],
   "source": [
    "import nltk\n",
    "from nltk.sentiment.vader import SentimentIntensityAnalyzer\n",
    "nltk.download('punkt')\n",
    "nltk.download('vader_lexicon')"
   ]
  },
  {
   "cell_type": "code",
   "execution_count": 17,
   "metadata": {},
   "outputs": [],
   "source": [
    "Reglas = {\n",
    "    'bueno':1,\n",
    "    'excelente':1,\n",
    "    'positivo':1,\n",
    "    'malo':-1,\n",
    "    'horrible':-1,\n",
    "}\n",
    "\n",
    "# Función para análisis de sentimientos basados en palabras claves\n",
    "def analizar_sentimientos(texto):\n",
    "    tokens = nltk.word_tokenize(texto.lower())\n",
    "    puntaje = 0\n",
    "\n",
    "    for token in tokens:\n",
    "        if token in Reglas:\n",
    "            puntaje =+ Reglas[token]\n",
    "\n",
    "    if puntaje > 0:\n",
    "        return \"positivo\"\n",
    "    elif puntaje < 0:\n",
    "        return \"negativo\"\n",
    "    else:\n",
    "        return \"neutro\""
   ]
  },
  {
   "cell_type": "code",
   "execution_count": 24,
   "metadata": {},
   "outputs": [
    {
     "name": "stdout",
     "output_type": "stream",
     "text": [
      "Tus sentimientos son del tipo: negativo\n",
      "{'neg': 0.307, 'neu': 0.693, 'pos': 0.0, 'compound': -0.4767}\n"
     ]
    }
   ],
   "source": [
    "# Ejemplo de uso\n",
    "texto = \"La polibus es terriblemente malo y la U es terrible\"\n",
    "sentimiento = analizar_sentimientos(texto)\n",
    "print(\"Tus sentimientos son del tipo:\",sentimiento)\n",
    "\n",
    "# Analizador de sentimientos de python\n",
    "analizador = SentimentIntensityAnalyzer()\n",
    "puntaje = analizador.polarity_scores(texto)\n",
    "print(puntaje)"
   ]
  }
 ],
 "metadata": {
  "kernelspec": {
   "display_name": "Python 3",
   "language": "python",
   "name": "python3"
  },
  "language_info": {
   "codemirror_mode": {
    "name": "ipython",
    "version": 3
   },
   "file_extension": ".py",
   "mimetype": "text/x-python",
   "name": "python",
   "nbconvert_exporter": "python",
   "pygments_lexer": "ipython3",
   "version": "3.11.2"
  },
  "orig_nbformat": 4
 },
 "nbformat": 4,
 "nbformat_minor": 2
}
