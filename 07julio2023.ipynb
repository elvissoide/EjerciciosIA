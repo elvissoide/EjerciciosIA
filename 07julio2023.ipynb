{
 "cells": [
  {
   "cell_type": "code",
   "execution_count": 37,
   "metadata": {},
   "outputs": [],
   "source": [
    "import numpy as np\n",
    "import tensorflow as tf\n",
    "from tensorflow import keras\n",
    "import matplotlib.pyplot as plt\n",
    "from keras.layers import Conv2D, MaxPooling2D, Flatten, Dense\n",
    "# import cv2 as cv"
   ]
  },
  {
   "cell_type": "code",
   "execution_count": 38,
   "metadata": {},
   "outputs": [
    {
     "data": {
      "text/plain": [
       "<matplotlib.image.AxesImage at 0x292bc9a6d50>"
      ]
     },
     "execution_count": 38,
     "metadata": {},
     "output_type": "execute_result"
    },
    {
     "data": {
      "image/png": "[encoded data removed]",
      "text/plain": [
       "<Figure size 640x480 with 1 Axes>"
      ]
     },
     "metadata": {},
     "output_type": "display_data"
    }
   ],
   "source": [
    "# Cargar datos de entrenamiento y prueba\n",
    "(x_train, y_train),(x_test,y_test) = keras.datasets.mnist.load_data()\n",
    "\n",
    "# Forma de las imagenes 28 x 28 pixeles (60 000 imágenes)\n",
    "x_train.shape\n",
    "\n",
    "# Mostrar imagen de la posición\n",
    "plt.imshow(x_train[890])"
   ]
  },
  {
   "cell_type": "code",
   "execution_count": 39,
   "metadata": {},
   "outputs": [],
   "source": [
    "# Estandarizar los valores entre 0 y 1 pixeles (0,255)\n",
    "x_train = x_train.astype(\"float32\")/255\n",
    "x_test = x_test.astype(\"float32\")/255"
   ]
  },
  {
   "cell_type": "code",
   "execution_count": 40,
   "metadata": {},
   "outputs": [],
   "source": [
    "# Cambiar forma de los datos de entrada a 28x28 y a blanco/negro (1) color (3)\n",
    "x_train = x_train.reshape(-1,28,28,1) # -1 establece automáticamente la dimensión\n",
    "x_test = x_test.reshape(-1,28,28,1)"
   ]
  },
  {
   "cell_type": "code",
   "execution_count": 41,
   "metadata": {},
   "outputs": [
    {
     "name": "stdout",
     "output_type": "stream",
     "text": [
      "Epoch 1/20\n",
      "469/469 [==============================] - 8s 15ms/step - loss: 0.2718 - accuracy: 0.9236\n",
      "Epoch 2/20\n",
      "469/469 [==============================] - 7s 15ms/step - loss: 0.0855 - accuracy: 0.9754\n",
      "Epoch 3/20\n",
      "469/469 [==============================] - 7s 15ms/step - loss: 0.0593 - accuracy: 0.9827\n",
      "Epoch 4/20\n",
      "469/469 [==============================] - 7s 15ms/step - loss: 0.0451 - accuracy: 0.9863\n",
      "Epoch 5/20\n",
      "469/469 [==============================] - 7s 15ms/step - loss: 0.0374 - accuracy: 0.9887\n",
      "Epoch 6/20\n",
      "469/469 [==============================] - 7s 15ms/step - loss: 0.0299 - accuracy: 0.9910\n",
      "Epoch 7/20\n",
      "469/469 [==============================] - 7s 15ms/step - loss: 0.0239 - accuracy: 0.9927\n",
      "Epoch 8/20\n",
      "469/469 [==============================] - 7s 15ms/step - loss: 0.0192 - accuracy: 0.9944\n",
      "Epoch 9/20\n",
      "469/469 [==============================] - 7s 15ms/step - loss: 0.0167 - accuracy: 0.9949\n",
      "Epoch 10/20\n",
      "469/469 [==============================] - 7s 15ms/step - loss: 0.0125 - accuracy: 0.9963\n",
      "Epoch 11/20\n",
      "469/469 [==============================] - 7s 15ms/step - loss: 0.0108 - accuracy: 0.9970\n",
      "Epoch 12/20\n",
      "469/469 [==============================] - 7s 14ms/step - loss: 0.0083 - accuracy: 0.9977\n",
      "Epoch 13/20\n",
      "469/469 [==============================] - 7s 14ms/step - loss: 0.0073 - accuracy: 0.9980\n",
      "Epoch 14/20\n",
      "469/469 [==============================] - 7s 14ms/step - loss: 0.0064 - accuracy: 0.9982\n",
      "Epoch 15/20\n",
      "469/469 [==============================] - 7s 14ms/step - loss: 0.0049 - accuracy: 0.9987\n",
      "Epoch 16/20\n",
      "469/469 [==============================] - 7s 14ms/step - loss: 0.0037 - accuracy: 0.9992\n",
      "Epoch 17/20\n",
      "469/469 [==============================] - 7s 14ms/step - loss: 0.0051 - accuracy: 0.9984\n",
      "Epoch 18/20\n",
      "469/469 [==============================] - 7s 15ms/step - loss: 0.0018 - accuracy: 0.9997\n",
      "Epoch 19/20\n",
      "469/469 [==============================] - 7s 14ms/step - loss: 0.0021 - accuracy: 0.9995\n",
      "Epoch 20/20\n",
      "469/469 [==============================] - 7s 14ms/step - loss: 0.0064 - accuracy: 0.9981\n"
     ]
    },
    {
     "data": {
      "text/plain": [
       "<keras.callbacks.History at 0x292bd44eb90>"
      ]
     },
     "execution_count": 41,
     "metadata": {},
     "output_type": "execute_result"
    }
   ],
   "source": [
    "# Crear arquitectura de la red neuronal\n",
    "modelo = keras.Sequential()\n",
    "# Capa convolucion (#filtros,kernel,fun activacion, forma entrada)\n",
    "capa_convolucion = Conv2D(32,kernel_size=(3,3),activation=\"relu\",input_shape=(28,28,1))\n",
    "# Capa agrupamiento \n",
    "capa_agrupamiento = MaxPooling2D(pool_size=(2,2))\n",
    "# Capa aplanamiento\n",
    "capa_aplanamiento = Flatten()\n",
    "# Capas densas (escondidas)\n",
    "capa_oculta = Dense(units=64,activation=\"relu\")\n",
    "# Capas salida\n",
    "capa_salida = Dense(units=10,activation=\"softmax\")\n",
    "\n",
    "modelo = keras.Sequential([capa_convolucion, capa_agrupamiento, capa_aplanamiento, capa_oculta, capa_salida])\n",
    "\n",
    "# Compilar el modelo\n",
    "modelo.compile(optimizer='adam', loss='categorical_crossentropy',metrics=[\"accuracy\"])\n",
    "# Entrenar el modelo\n",
    "y_train=keras.utils.to_categorical(y_train, num_classes=10)\n",
    "y_test=keras.utils.to_categorical(y_test, num_classes=10)\n",
    "modelo.fit(x_train, y_train, batch_size=128, epochs=20)"
   ]
  },
  {
   "cell_type": "code",
   "execution_count": 42,
   "metadata": {},
   "outputs": [
    {
     "name": "stdout",
     "output_type": "stream",
     "text": [
      "313/313 [==============================] - 1s 2ms/step - loss: 0.0699 - accuracy: 0.9840\n",
      "La funcion de perdida es: 0.06993857771158218\n",
      "La precision es: 0.984000027179718\n"
     ]
    }
   ],
   "source": [
    "# Evaluar el modelo con los datos de prueba\n",
    "perdida = modelo.evaluate(x_test,y_test)\n",
    "print(\"La funcion de perdida es:\", perdida[0])\n",
    "print(\"La precision es:\", perdida[1])"
   ]
  },
  {
   "cell_type": "code",
   "execution_count": 46,
   "metadata": {},
   "outputs": [
    {
     "name": "stdout",
     "output_type": "stream",
     "text": [
      "1/1 [==============================] - 0s 15ms/step\n",
      "La imagen se clasifica como: 8\n"
     ]
    },
    {
     "data": {
      "image/png": "[encoded data removed]",
      "text/plain": [
       "<Figure size 640x480 with 1 Axes>"
      ]
     },
     "metadata": {},
     "output_type": "display_data"
    }
   ],
   "source": [
    "# Leer imagen\n",
    "imagen = cv.imread(\"numero4v2.png\")\n",
    "plt.imshow(imagen)\n",
    "\n",
    "#Aplicar filtro de desenfoque\n",
    "imagen = cv.GaussianBlur(imagen,(3,3),0)\n",
    "\n",
    "#Convertir a escala de grises\n",
    "imagen = cv.cvtColor(imagen, cv.COLOR_BGR2GRAY)\n",
    "\n",
    "# Redimensionar las imágenes a un tamaño de 28x28\n",
    "imagen = cv.resize(imagen,(28,28),interpolation=cv.INTER_NEAREST)\n",
    "\n",
    "# Aplicar la inversión de colores\n",
    "imagen = cv.bitwise_not(imagen)\n",
    "plt.imshow(imagen)\n",
    "\n",
    "# Agregar una dimensión adicional para representar el canal de color (escala de grises)\n",
    "imagen = np.expand_dims(imagen, axis=-1)\n",
    "\n",
    "# Agregar una dimensión adicional para representar el lote de imágenes\n",
    "imagen = np.expand_dims(imagen, axis=0)\n",
    "\n",
    "# Realizar la predicción\n",
    "prediccion = modelo.predict(imagen)\n",
    "predicted_class = np.argmax(prediccion[0])\n",
    "\n",
    "# Imprimir la clase predicha\n",
    "print(\"La imagen se clasifica como:\", predicted_class)"
   ]
  },
  {
   "cell_type": "code",
   "execution_count": null,
   "metadata": {},
   "outputs": [],
   "source": []
  }
 ],
 "metadata": {
  "kernelspec": {
   "display_name": "Python 3",
   "language": "python",
   "name": "python3"
  },
  "language_info": {
   "codemirror_mode": {
    "name": "ipython",
    "version": 3
   },
   "file_extension": ".py",
   "mimetype": "text/x-python",
   "name": "python",
   "nbconvert_exporter": "python",
   "pygments_lexer": "ipython3",
   "version": "3.11.3"
  },
  "orig_nbformat": 4
 },
 "nbformat": 4,
 "nbformat_minor": 2
}
