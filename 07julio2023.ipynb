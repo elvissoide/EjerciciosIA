{
 "cells": [
  {
   "cell_type": "code",
   "execution_count": 39,
   "metadata": {},
   "outputs": [],
   "source": [
    "import numpy as np\n",
    "import tensorflow as tf\n",
    "from tensorflow import keras\n",
    "import matplotlib.pyplot as plt\n",
    "from keras.layers import Conv2D, MaxPooling2D, Flatten, Dense"
   ]
  },
  {
   "cell_type": "code",
   "execution_count": 40,
   "metadata": {},
   "outputs": [
    {
     "data": {
      "text/plain": [
       "<matplotlib.image.AxesImage at 0x1e6b727f150>"
      ]
     },
     "execution_count": 40,
     "metadata": {},
     "output_type": "execute_result"
    },
    {
     "data": {
      "image/png": "[encoded data removed]",
      "text/plain": [
       "<Figure size 640x480 with 1 Axes>"
      ]
     },
     "metadata": {},
     "output_type": "display_data"
    }
   ],
   "source": [
    "# Cargar datos de entrenamiento y prueba\n",
    "(x_train, y_train),(x_test,y_test) = keras.datasets.mnist.load_data()\n",
    "\n",
    "# Forma de las imagenes 28 x 28 pixeles (60 000 imágenes)\n",
    "x_train.shape\n",
    "\n",
    "# Mostrar imagen de la posición\n",
    "plt.imshow(x_train[890])"
   ]
  },
  {
   "cell_type": "code",
   "execution_count": 41,
   "metadata": {},
   "outputs": [],
   "source": [
    "# Estandarizar los valores entre 0 y 1 pixeles (0,255)\n",
    "x_train = x_train.astype(\"float32\")/255\n",
    "x_test = x_test.astype(\"float32\")/255"
   ]
  },
  {
   "cell_type": "code",
   "execution_count": 42,
   "metadata": {},
   "outputs": [],
   "source": [
    "# Cambiar forma de los datos de entrada a 28x28 y a blanco/negro (1) color (3)\n",
    "x_train = x_train.reshape(-1,28,28,1) # -1 establece automáticamente la dimensión\n",
    "x_test = x_test.reshape(-1,28,28,1)"
   ]
  },
  {
   "cell_type": "code",
   "execution_count": 43,
   "metadata": {},
   "outputs": [
    {
     "name": "stdout",
     "output_type": "stream",
     "text": [
      "Epoch 1/5\n",
      "469/469 [==============================] - 8s 16ms/step - loss: 0.2576 - accuracy: 0.9259\n",
      "Epoch 2/5\n",
      "469/469 [==============================] - 7s 15ms/step - loss: 0.0766 - accuracy: 0.9781\n",
      "Epoch 3/5\n",
      "469/469 [==============================] - 7s 16ms/step - loss: 0.0550 - accuracy: 0.9837\n",
      "Epoch 4/5\n",
      "469/469 [==============================] - 7s 16ms/step - loss: 0.0430 - accuracy: 0.9874\n",
      "Epoch 5/5\n",
      "469/469 [==============================] - 7s 16ms/step - loss: 0.0345 - accuracy: 0.9899\n"
     ]
    },
    {
     "data": {
      "text/plain": [
       "<keras.callbacks.History at 0x1e6b76d1750>"
      ]
     },
     "execution_count": 43,
     "metadata": {},
     "output_type": "execute_result"
    }
   ],
   "source": [
    "# Crear arquitectura de la red neuronal\n",
    "modelo = keras.Sequential()\n",
    "# Capa convolucion (#filtros,kernel,fun activacion, forma entrada)\n",
    "capa_convolucion = Conv2D(32,kernel_size=(3,3),activation=\"relu\",input_shape=(28,28,1))\n",
    "# Capa agrupamiento \n",
    "capa_agrupamiento = MaxPooling2D(pool_size=(2,2))\n",
    "# Capa aplanamiento\n",
    "capa_aplanamiento = Flatten()\n",
    "# Capas densas (escondidas)\n",
    "capa_oculta = Dense(units=64,activation=\"relu\")\n",
    "# Capas salida\n",
    "capa_salida = Dense(units=10,activation=\"softmax\")\n",
    "\n",
    "modelo = keras.Sequential([capa_convolucion, capa_agrupamiento, capa_aplanamiento, capa_oculta, capa_salida])\n",
    "\n",
    "# Compilar el modelo\n",
    "modelo.compile(optimizer='adam', loss='categorical_crossentropy',metrics=[\"accuracy\"])\n",
    "# Entrenar el modelo\n",
    "y_train=keras.utils.to_categorical(y_train, num_classes=10)\n",
    "y_test=keras.utils.to_categorical(y_test, num_classes=10)\n",
    "modelo.fit(x_train, y_train, batch_size=128, epochs=5)"
   ]
  },
  {
   "cell_type": "code",
   "execution_count": 44,
   "metadata": {},
   "outputs": [
    {
     "name": "stdout",
     "output_type": "stream",
     "text": [
      "313/313 [==============================] - 1s 2ms/step - loss: 0.0506 - accuracy: 0.9837\n",
      "La funcion de perdida es: 0.05060368776321411\n",
      "La precision es: 0.9836999773979187\n"
     ]
    }
   ],
   "source": [
    "# Evaluar el modelo con los datos de prueba\n",
    "perdida = modelo.evaluate(x_test,y_test)\n",
    "print(\"La funcion de perdida es:\", perdida[0])\n",
    "print(\"La precision es:\", perdida[1])"
   ]
  },
  {
   "cell_type": "code",
   "execution_count": 53,
   "metadata": {},
   "outputs": [
    {
     "name": "stdout",
     "output_type": "stream",
     "text": [
      "1/1 [==============================] - 0s 18ms/step\n",
      "La imagen se clasifica como: 4\n"
     ]
    },
    {
     "data": {
      "image/png": "[encoded data removed]",
      "text/plain": [
       "<Figure size 640x480 with 1 Axes>"
      ]
     },
     "metadata": {},
     "output_type": "display_data"
    }
   ],
   "source": [
    "# Leer imagen\n",
    "imagen = x_test[5900]\n",
    "plt.imshow(imagen)\n",
    "\n",
    "# Agregar una dimensión adicional para representar el canal de color (escala de grises)\n",
    "imagen = np.expand_dims(imagen, axis=-1)\n",
    "\n",
    "# Agregar una dimensión adicional para representar el lote de imágenes\n",
    "imagen = np.expand_dims(imagen, axis=0)\n",
    "\n",
    "# Realizar la predicción\n",
    "prediccion = modelo.predict(imagen)\n",
    "predicted_class = np.argmax(prediccion[0])\n",
    "\n",
    "# Imprimir la clase predicha\n",
    "print(\"La imagen se clasifica como:\", predicted_class)"
   ]
  },
  {
   "cell_type": "code",
   "execution_count": null,
   "metadata": {},
   "outputs": [],
   "source": []
  }
 ],
 "metadata": {
  "kernelspec": {
   "display_name": "Python 3",
   "language": "python",
   "name": "python3"
  },
  "language_info": {
   "codemirror_mode": {
    "name": "ipython",
    "version": 3
   },
   "file_extension": ".py",
   "mimetype": "text/x-python",
   "name": "python",
   "nbconvert_exporter": "python",
   "pygments_lexer": "ipython3",
   "version": "3.11.2"
  },
  "orig_nbformat": 4
 },
 "nbformat": 4,
 "nbformat_minor": 2
}
