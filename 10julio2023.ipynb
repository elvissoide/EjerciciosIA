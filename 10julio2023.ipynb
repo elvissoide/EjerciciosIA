{
 "cells": [
  {
   "cell_type": "code",
   "execution_count": 1,
   "metadata": {},
   "outputs": [],
   "source": [
    "# Importar librerías\n",
    "from nltk.chat.util import Chat, reflections"
   ]
  },
  {
   "cell_type": "code",
   "execution_count": 2,
   "metadata": {},
   "outputs": [],
   "source": [
    "reglas = [\n",
    "    [\n",
    "        r\"Hola|hola|HOLA\",\n",
    "        [\n",
    "            \"En q t ayudo?\",\n",
    "        ],\n",
    "    ],\n",
    "    [\n",
    "        r\"Escribe un hola mundo en Javascript(.*)\",\n",
    "        [\n",
    "            \"console.log(\\\"Hola, mundo!\\\");\",\n",
    "        ],\n",
    "    ],\n",
    "    [\n",
    "        r\"Escribe un hola mundo en python(.*)\",\n",
    "        [\n",
    "            \"print('Hola mundo')\",\n",
    "        ],\n",
    "    ],\n",
    "    [\n",
    "        r\"Escribe un hola mundo en C(.*)\",\n",
    "        [\n",
    "            \"\"\"#include <stdio.h>\n",
    "\n",
    "            int main() {\n",
    "            printf(\"Hola, mundo!\\n\");\n",
    "            return 0;\n",
    "            }\"\"\",\n",
    "        ],\n",
    "    ],\n",
    "    [\n",
    "        r\"Escribe un hola mundo en Cpp(.*)\",\n",
    "        [\n",
    "            \"\"\"#include <iostream>\n",
    "\n",
    "            int main() {\n",
    "            std::cout << \"Hola, mundo!\" << std::endl;\n",
    "            return 0;\n",
    "            }\n",
    "            \"\"\",\n",
    "        ],\n",
    "    ],\n",
    "    [\n",
    "        r\"Escribe un hola mundo en Java(.*)\",\n",
    "        [\n",
    "            \"\"\"\n",
    "            public class HolaMundo {\n",
    "            public static void main(String[] args) {\n",
    "            System.out.println(\"Hola, mundo!\");\n",
    "                }\n",
    "            }\n",
    "            \"\"\",\n",
    "        ],\n",
    "    ],\n",
    "    [\n",
    "        r\"(.*)\",\n",
    "        [\n",
    "            \"Lo siento no puedo ayudarte\",\n",
    "        ],\n",
    "    ],\n",
    "]"
   ]
  },
  {
   "cell_type": "code",
   "execution_count": 3,
   "metadata": {},
   "outputs": [
    {
     "name": "stdout",
     "output_type": "stream",
     "text": [
      "Lo siento no puedo ayudarte\n",
      "Hola! ¿Te puedo ayudar en algo?\n",
      "Lo siento no puedo ayudarte\n",
      "Lo siento no puedo ayudarte\n",
      "Hola! ¿Te puedo ayudar en algo?\n",
      "Hola! ¿Te puedo ayudar en algo?\n",
      "Hola! ¿Te puedo ayudar en algo?\n",
      "Lo siento no puedo ayudarte\n",
      "Lo siento no puedo ayudarte\n",
      "Lo siento no puedo ayudarte\n"
     ]
    }
   ],
   "source": [
    "# Crear el chatbot\n",
    "chat = Chat(reglas, reflections)\n",
    "\n",
    "while True:\n",
    "    entrada = input()\n",
    "    if entrada.lower() == \"chao\":\n",
    "        print((\"Hasta luego!\"))\n",
    "        break\n",
    "    print(chat.respond(entrada))\n",
    "chat.converse()"
   ]
  }
 ],
 "metadata": {
  "kernelspec": {
   "display_name": "Python 3",
   "language": "python",
   "name": "python3"
  },
  "language_info": {
   "codemirror_mode": {
    "name": "ipython",
    "version": 3
   },
   "file_extension": ".py",
   "mimetype": "text/x-python",
   "name": "python",
   "nbconvert_exporter": "python",
   "pygments_lexer": "ipython3",
   "version": "3.11.2"
  },
  "orig_nbformat": 4
 },
 "nbformat": 4,
 "nbformat_minor": 2
}
